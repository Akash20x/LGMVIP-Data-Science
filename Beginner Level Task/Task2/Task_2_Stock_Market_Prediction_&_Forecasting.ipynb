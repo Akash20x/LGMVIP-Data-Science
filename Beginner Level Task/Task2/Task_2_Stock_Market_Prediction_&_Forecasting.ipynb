{
  "nbformat": 4,
  "nbformat_minor": 0,
  "metadata": {
    "colab": {
      "name": "Task 2 Stock Market Prediction & Forecasting.ipynb",
      "provenance": []
    },
    "kernelspec": {
      "name": "python3",
      "display_name": "Python 3"
    },
    "language_info": {
      "name": "python"
    },
    "accelerator": "GPU"
  },
  "cells": [
    {
      "cell_type": "markdown",
      "metadata": {
        "id": "oOsIlDVwNeaZ"
      },
      "source": [
        "# **Data Science Intern - LetsGrowMore**\n",
        "\n",
        "## **Author : Akash Jain**\n",
        "\n",
        "## **Beginner Level Task**\n",
        "\n",
        "## **Task 2 :**\n",
        "\n",
        "## ***Stock Market Prediction And Forecasting Using Stacked LSTM***"
      ]
    },
    {
      "cell_type": "markdown",
      "metadata": {
        "id": "oaJY1FMkfdu6"
      },
      "source": [
        "## **Importing Basic Libraries**"
      ]
    },
    {
      "cell_type": "code",
      "metadata": {
        "id": "CsPLU-PF7ISB"
      },
      "source": [
        "import pandas as pd\n",
        "import seaborn as sns\n",
        "import matplotlib.pyplot as plt\n",
        "import numpy as np\n",
        "\n",
        "import warnings # supress warnings\n",
        "warnings.filterwarnings('ignore')"
      ],
      "execution_count": 1,
      "outputs": []
    },
    {
      "cell_type": "markdown",
      "metadata": {
        "id": "g2V912gIfmn2"
      },
      "source": [
        "## **Loading & Analyzing Stocks Data**"
      ]
    },
    {
      "cell_type": "code",
      "metadata": {
        "id": "bn-a_ZC-7Jd3"
      },
      "source": [
        "# Loading Tata Global Beverage’s past stock prices data \n",
        "# Making date in pandas date format and also make date column as index\n",
        "data=pd.read_csv('https://raw.githubusercontent.com/mwitiderrick/stockprice/master/NSE-TATAGLOBAL.csv' ,infer_datetime_format=True,\n",
        "                 parse_dates=['Date'], index_col=['Date'])\n"
      ],
      "execution_count": 2,
      "outputs": []
    },
    {
      "cell_type": "code",
      "metadata": {
        "colab": {
          "base_uri": "https://localhost:8080/",
          "height": 237
        },
        "id": "iLf5RiPJ7Qar",
        "outputId": "596cc55f-8c3e-4af1-92a0-70e3c6b1ca2c"
      },
      "source": [
        "data.head()"
      ],
      "execution_count": 3,
      "outputs": [
        {
          "output_type": "execute_result",
          "data": {
            "text/html": [
              "<div>\n",
              "<style scoped>\n",
              "    .dataframe tbody tr th:only-of-type {\n",
              "        vertical-align: middle;\n",
              "    }\n",
              "\n",
              "    .dataframe tbody tr th {\n",
              "        vertical-align: top;\n",
              "    }\n",
              "\n",
              "    .dataframe thead th {\n",
              "        text-align: right;\n",
              "    }\n",
              "</style>\n",
              "<table border=\"1\" class=\"dataframe\">\n",
              "  <thead>\n",
              "    <tr style=\"text-align: right;\">\n",
              "      <th></th>\n",
              "      <th>Open</th>\n",
              "      <th>High</th>\n",
              "      <th>Low</th>\n",
              "      <th>Last</th>\n",
              "      <th>Close</th>\n",
              "      <th>Total Trade Quantity</th>\n",
              "      <th>Turnover (Lacs)</th>\n",
              "    </tr>\n",
              "    <tr>\n",
              "      <th>Date</th>\n",
              "      <th></th>\n",
              "      <th></th>\n",
              "      <th></th>\n",
              "      <th></th>\n",
              "      <th></th>\n",
              "      <th></th>\n",
              "      <th></th>\n",
              "    </tr>\n",
              "  </thead>\n",
              "  <tbody>\n",
              "    <tr>\n",
              "      <th>2018-09-28</th>\n",
              "      <td>234.05</td>\n",
              "      <td>235.95</td>\n",
              "      <td>230.20</td>\n",
              "      <td>233.50</td>\n",
              "      <td>233.75</td>\n",
              "      <td>3069914</td>\n",
              "      <td>7162.35</td>\n",
              "    </tr>\n",
              "    <tr>\n",
              "      <th>2018-09-27</th>\n",
              "      <td>234.55</td>\n",
              "      <td>236.80</td>\n",
              "      <td>231.10</td>\n",
              "      <td>233.80</td>\n",
              "      <td>233.25</td>\n",
              "      <td>5082859</td>\n",
              "      <td>11859.95</td>\n",
              "    </tr>\n",
              "    <tr>\n",
              "      <th>2018-09-26</th>\n",
              "      <td>240.00</td>\n",
              "      <td>240.00</td>\n",
              "      <td>232.50</td>\n",
              "      <td>235.00</td>\n",
              "      <td>234.25</td>\n",
              "      <td>2240909</td>\n",
              "      <td>5248.60</td>\n",
              "    </tr>\n",
              "    <tr>\n",
              "      <th>2018-09-25</th>\n",
              "      <td>233.30</td>\n",
              "      <td>236.75</td>\n",
              "      <td>232.00</td>\n",
              "      <td>236.25</td>\n",
              "      <td>236.10</td>\n",
              "      <td>2349368</td>\n",
              "      <td>5503.90</td>\n",
              "    </tr>\n",
              "    <tr>\n",
              "      <th>2018-09-24</th>\n",
              "      <td>233.55</td>\n",
              "      <td>239.20</td>\n",
              "      <td>230.75</td>\n",
              "      <td>234.00</td>\n",
              "      <td>233.30</td>\n",
              "      <td>3423509</td>\n",
              "      <td>7999.55</td>\n",
              "    </tr>\n",
              "  </tbody>\n",
              "</table>\n",
              "</div>"
            ],
            "text/plain": [
              "              Open    High  ...  Total Trade Quantity  Turnover (Lacs)\n",
              "Date                        ...                                       \n",
              "2018-09-28  234.05  235.95  ...               3069914          7162.35\n",
              "2018-09-27  234.55  236.80  ...               5082859         11859.95\n",
              "2018-09-26  240.00  240.00  ...               2240909          5248.60\n",
              "2018-09-25  233.30  236.75  ...               2349368          5503.90\n",
              "2018-09-24  233.55  239.20  ...               3423509          7999.55\n",
              "\n",
              "[5 rows x 7 columns]"
            ]
          },
          "metadata": {
            "tags": []
          },
          "execution_count": 3
        }
      ]
    },
    {
      "cell_type": "code",
      "metadata": {
        "id": "CEaoWjW9huWo",
        "colab": {
          "base_uri": "https://localhost:8080/"
        },
        "outputId": "e28c758c-66da-4664-fe93-da7ee376381c"
      },
      "source": [
        "print(data.index.unique().tolist()[0])\n",
        "print(data.index.unique().tolist()[-1])"
      ],
      "execution_count": 4,
      "outputs": [
        {
          "output_type": "stream",
          "text": [
            "2018-09-28 00:00:00\n",
            "2010-07-21 00:00:00\n"
          ],
          "name": "stdout"
        }
      ]
    },
    {
      "cell_type": "markdown",
      "metadata": {
        "id": "HL1dl8cYiTNY"
      },
      "source": [
        "**Given dataset has stock prices from year 2010-2019**"
      ]
    },
    {
      "cell_type": "code",
      "metadata": {
        "colab": {
          "base_uri": "https://localhost:8080/"
        },
        "id": "Wc6GNISa7R0h",
        "outputId": "cf4c3c72-797b-4201-e541-433e0d4fe8c9"
      },
      "source": [
        "data.shape"
      ],
      "execution_count": 5,
      "outputs": [
        {
          "output_type": "execute_result",
          "data": {
            "text/plain": [
              "(2035, 7)"
            ]
          },
          "metadata": {
            "tags": []
          },
          "execution_count": 5
        }
      ]
    },
    {
      "cell_type": "markdown",
      "metadata": {
        "id": "3hPCUG2AgghE"
      },
      "source": [
        "There are 2035 Stocks Prices Records and 7 columns"
      ]
    },
    {
      "cell_type": "code",
      "metadata": {
        "colab": {
          "base_uri": "https://localhost:8080/"
        },
        "id": "iL2rL8Qq7asn",
        "outputId": "87aee868-8bc6-4758-9afd-d8598c066fae"
      },
      "source": [
        "# Checking null values\n",
        "data.isnull().sum()"
      ],
      "execution_count": 6,
      "outputs": [
        {
          "output_type": "execute_result",
          "data": {
            "text/plain": [
              "Open                    0\n",
              "High                    0\n",
              "Low                     0\n",
              "Last                    0\n",
              "Close                   0\n",
              "Total Trade Quantity    0\n",
              "Turnover (Lacs)         0\n",
              "dtype: int64"
            ]
          },
          "metadata": {
            "tags": []
          },
          "execution_count": 6
        }
      ]
    },
    {
      "cell_type": "code",
      "metadata": {
        "colab": {
          "base_uri": "https://localhost:8080/"
        },
        "id": "MIR3X2f_734M",
        "outputId": "cc79988d-11ec-4363-be17-876ab51d9001"
      },
      "source": [
        "data.info()"
      ],
      "execution_count": 7,
      "outputs": [
        {
          "output_type": "stream",
          "text": [
            "<class 'pandas.core.frame.DataFrame'>\n",
            "DatetimeIndex: 2035 entries, 2018-09-28 to 2010-07-21\n",
            "Data columns (total 7 columns):\n",
            " #   Column                Non-Null Count  Dtype  \n",
            "---  ------                --------------  -----  \n",
            " 0   Open                  2035 non-null   float64\n",
            " 1   High                  2035 non-null   float64\n",
            " 2   Low                   2035 non-null   float64\n",
            " 3   Last                  2035 non-null   float64\n",
            " 4   Close                 2035 non-null   float64\n",
            " 5   Total Trade Quantity  2035 non-null   int64  \n",
            " 6   Turnover (Lacs)       2035 non-null   float64\n",
            "dtypes: float64(6), int64(1)\n",
            "memory usage: 127.2 KB\n"
          ],
          "name": "stdout"
        }
      ]
    },
    {
      "cell_type": "markdown",
      "metadata": {
        "id": "GnCoKpXdhLDt"
      },
      "source": [
        "## **Stock Closing Prices over the year (2010-2019)**"
      ]
    },
    {
      "cell_type": "code",
      "metadata": {
        "colab": {
          "base_uri": "https://localhost:8080/",
          "height": 531
        },
        "id": "1uG4SEw_8qEK",
        "outputId": "c29d5d83-382d-4563-ae9a-a4db156649af"
      },
      "source": [
        "plt.figure(figsize=(16,8))\n",
        "plt.plot(data['Close'], label='Close Price history',color='b')\n",
        "plt.xlabel('Date',size=20)\n",
        "plt.ylabel('Stock Price',size=20)\n",
        "plt.title('Stock Price Over the Years',size=25);"
      ],
      "execution_count": 8,
      "outputs": [
        {
          "output_type": "display_data",
          "data": {
            "image/png": "[encoded data removed]",
            "text/plain": [
              "<Figure size 1152x576 with 1 Axes>"
            ]
          },
          "metadata": {
            "tags": [],
            "needs_background": "light"
          }
        }
      ]
    },
    {
      "cell_type": "code",
      "metadata": {
        "id": "VPCXInh48iJn"
      },
      "source": [
        "# Choosing Closing Price of the stock for training ,testing and predictions\n",
        "# We do reset_index() to remove index Date values with normal index values\n",
        "df=data.reset_index()['Close']"
      ],
      "execution_count": 9,
      "outputs": []
    },
    {
      "cell_type": "code",
      "metadata": {
        "colab": {
          "base_uri": "https://localhost:8080/"
        },
        "id": "KqzhAknZGj5F",
        "outputId": "28edb6d3-8349-40e9-ed3b-e76dd80d80cf"
      },
      "source": [
        "df"
      ],
      "execution_count": 10,
      "outputs": [
        {
          "output_type": "execute_result",
          "data": {
            "text/plain": [
              "0       233.75\n",
              "1       233.25\n",
              "2       234.25\n",
              "3       236.10\n",
              "4       233.30\n",
              "         ...  \n",
              "2030    118.65\n",
              "2031    117.60\n",
              "2032    120.65\n",
              "2033    120.90\n",
              "2034    121.55\n",
              "Name: Close, Length: 2035, dtype: float64"
            ]
          },
          "metadata": {
            "tags": []
          },
          "execution_count": 10
        }
      ]
    },
    {
      "cell_type": "code",
      "metadata": {
        "id": "UcUeeFP_D7sO"
      },
      "source": [
        "df1=df.copy()"
      ],
      "execution_count": 11,
      "outputs": []
    },
    {
      "cell_type": "markdown",
      "metadata": {
        "id": "cFQp5CZPqlm9"
      },
      "source": [
        "## **Feature Scaling**"
      ]
    },
    {
      "cell_type": "code",
      "metadata": {
        "id": "nZ8vHVm17yVi"
      },
      "source": [
        "## LSTM are sensitive to the scale of the data. so we apply MinMax scaler\n",
        "from sklearn.preprocessing import MinMaxScaler\n",
        "scaler=MinMaxScaler(feature_range=(0,1))\n",
        "df=scaler.fit_transform(np.array(df).reshape(-1,1))"
      ],
      "execution_count": 12,
      "outputs": []
    },
    {
      "cell_type": "code",
      "metadata": {
        "colab": {
          "base_uri": "https://localhost:8080/"
        },
        "id": "o3IRMM2cGrQq",
        "outputId": "a514d4db-285c-4786-d0c3-61701bf929ea"
      },
      "source": [
        "df"
      ],
      "execution_count": 13,
      "outputs": [
        {
          "output_type": "execute_result",
          "data": {
            "text/plain": [
              "array([[0.62418301],\n",
              "       [0.62214052],\n",
              "       [0.62622549],\n",
              "       ...,\n",
              "       [0.1621732 ],\n",
              "       [0.16319444],\n",
              "       [0.16584967]])"
            ]
          },
          "metadata": {
            "tags": []
          },
          "execution_count": 13
        }
      ]
    },
    {
      "cell_type": "markdown",
      "metadata": {
        "id": "oPjrvK_tuaG0"
      },
      "source": [
        "## **Splitting dataset into train and test split**"
      ]
    },
    {
      "cell_type": "code",
      "metadata": {
        "id": "KMN0452ZHADF"
      },
      "source": [
        "training_size=int(len(df)*0.65) # 65% training data\n",
        "test_size=len(df)-training_size # 45% test data\n",
        "train_data,test_data=df[0:training_size,:],df[training_size:len(df),:]"
      ],
      "execution_count": 14,
      "outputs": []
    },
    {
      "cell_type": "code",
      "metadata": {
        "colab": {
          "base_uri": "https://localhost:8080/"
        },
        "id": "DknQKRvFHSg8",
        "outputId": "97143161-bede-49a6-887e-5dad2ec58334"
      },
      "source": [
        "training_size,test_size\n"
      ],
      "execution_count": 15,
      "outputs": [
        {
          "output_type": "execute_result",
          "data": {
            "text/plain": [
              "(1322, 713)"
            ]
          },
          "metadata": {
            "tags": []
          },
          "execution_count": 15
        }
      ]
    },
    {
      "cell_type": "markdown",
      "metadata": {
        "id": "E1Fq1_VRq7Jb"
      },
      "source": [
        "## **Data Sequencing**"
      ]
    },
    {
      "cell_type": "code",
      "metadata": {
        "id": "t7CFLN_tHLZm"
      },
      "source": [
        "# convert an array of values into a dataset matrix with 100 time-steps and 1 output\n",
        "def create_dataset(dataset, time_step=1):\n",
        "\tdataX, dataY = [], []\n",
        "\tfor i in range(len(dataset)-time_step-1): \n",
        "\t\ta = dataset[i:(i+time_step), 0]   ###i=0, 0,1,2,3-----99   100 \n",
        "\t\tdataX.append(a)\n",
        "\t\tdataY.append(dataset[i + time_step, 0])\n",
        "\treturn np.array(dataX), np.array(dataY)"
      ],
      "execution_count": 16,
      "outputs": []
    },
    {
      "cell_type": "code",
      "metadata": {
        "id": "swb7Gj1zHHBk"
      },
      "source": [
        "# Making training and testing data with 100 time-steps and 1 output\n",
        "time_step = 100\n",
        "X_train, y_train = create_dataset(train_data, time_step)\n",
        "X_test, ytest = create_dataset(test_data, time_step)"
      ],
      "execution_count": 17,
      "outputs": []
    },
    {
      "cell_type": "code",
      "metadata": {
        "colab": {
          "base_uri": "https://localhost:8080/"
        },
        "id": "Pie6JRZSHr2W",
        "outputId": "6033d0a8-ee2a-4db4-9d61-bbce6b8966d2"
      },
      "source": [
        "print(X_train.shape)\n",
        "print(y_train.shape)\n"
      ],
      "execution_count": 18,
      "outputs": [
        {
          "output_type": "stream",
          "text": [
            "(1221, 100)\n",
            "(1221,)\n"
          ],
          "name": "stdout"
        }
      ]
    },
    {
      "cell_type": "code",
      "metadata": {
        "colab": {
          "base_uri": "https://localhost:8080/"
        },
        "id": "VoX2iB3ZHx2W",
        "outputId": "4402812d-c7c5-4321-b105-fcede6063d28"
      },
      "source": [
        "print(X_test.shape)\n",
        "print(ytest.shape)\n"
      ],
      "execution_count": 19,
      "outputs": [
        {
          "output_type": "stream",
          "text": [
            "(612, 100)\n",
            "(612,)\n"
          ],
          "name": "stdout"
        }
      ]
    },
    {
      "cell_type": "markdown",
      "metadata": {
        "id": "zHqI7vNhsLQ0"
      },
      "source": [
        "## **Reshape into 3D data**"
      ]
    },
    {
      "cell_type": "code",
      "metadata": {
        "id": "PMPaT3E6H0hu"
      },
      "source": [
        "# reshape input to be [samples, time steps, features] which is required for LSTM\n",
        "X_train =X_train.reshape(X_train.shape[0],X_train.shape[1] , 1)\n",
        "X_test = X_test.reshape(X_test.shape[0],X_test.shape[1] , 1)"
      ],
      "execution_count": 20,
      "outputs": []
    },
    {
      "cell_type": "code",
      "metadata": {
        "id": "o1LbK7i7v5mx",
        "colab": {
          "base_uri": "https://localhost:8080/"
        },
        "outputId": "ee8c27d3-ce26-4ead-a2cd-9083a039aa7f"
      },
      "source": [
        "print(X_train.shape)\n",
        "print(X_test.shape)"
      ],
      "execution_count": 21,
      "outputs": [
        {
          "output_type": "stream",
          "text": [
            "(1221, 100, 1)\n",
            "(612, 100, 1)\n"
          ],
          "name": "stdout"
        }
      ]
    },
    {
      "cell_type": "markdown",
      "metadata": {
        "id": "CWq7GtvtsTsF"
      },
      "source": [
        "## **Builing the LSTM Model**"
      ]
    },
    {
      "cell_type": "code",
      "metadata": {
        "id": "ishdTWDWH4Pk"
      },
      "source": [
        "### Create the Stacked LSTM model\n",
        "from tensorflow.keras.models import Sequential\n",
        "from tensorflow.keras.layers import Dense\n",
        "from tensorflow.keras.layers import LSTM"
      ],
      "execution_count": 22,
      "outputs": []
    },
    {
      "cell_type": "code",
      "metadata": {
        "id": "qgnYZ6RHH-PL"
      },
      "source": [
        "# Building the LSTM with 50 neurons and 4 hidden layers. \n",
        "# Then assigning 1 neuron in the output layer for predicting the stock price.\n",
        "# Using the MSE loss function and the Adam stochastic gradient descent optimizer.\n",
        "# While adding more than 1 LSTM's, we should add an argument return_sequences = True until we reached last LSTM Layer.\n",
        "\n",
        "model=Sequential()\n",
        "model.add(LSTM(50,return_sequences=True,input_shape=(100,1))) # Lstm Layer with Input layer\n",
        "model.add(LSTM(50,return_sequences=True)) # Lstm Layer-2\n",
        "model.add(LSTM(50)) # Lstm Layer-3\n",
        "model.add(Dense(1)) # output layer\n",
        "model.compile(loss='mean_squared_error',optimizer='adam')"
      ],
      "execution_count": 23,
      "outputs": []
    },
    {
      "cell_type": "code",
      "metadata": {
        "colab": {
          "base_uri": "https://localhost:8080/"
        },
        "id": "uID2tZguIE_J",
        "outputId": "6a9ec887-cff3-42a8-891d-b487ebd1b90c"
      },
      "source": [
        "model.summary()"
      ],
      "execution_count": 24,
      "outputs": [
        {
          "output_type": "stream",
          "text": [
            "Model: \"sequential\"\n",
            "_________________________________________________________________\n",
            "Layer (type)                 Output Shape              Param #   \n",
            "=================================================================\n",
            "lstm (LSTM)                  (None, 100, 50)           10400     \n",
            "_________________________________________________________________\n",
            "lstm_1 (LSTM)                (None, 100, 50)           20200     \n",
            "_________________________________________________________________\n",
            "lstm_2 (LSTM)                (None, 50)                20200     \n",
            "_________________________________________________________________\n",
            "dense (Dense)                (None, 1)                 51        \n",
            "=================================================================\n",
            "Total params: 50,851\n",
            "Trainable params: 50,851\n",
            "Non-trainable params: 0\n",
            "_________________________________________________________________\n"
          ],
          "name": "stdout"
        }
      ]
    },
    {
      "cell_type": "code",
      "metadata": {
        "colab": {
          "base_uri": "https://localhost:8080/"
        },
        "id": "7_a4pZMZIHQP",
        "outputId": "3aed3d49-c001-4574-ccfa-151bbf81308b"
      },
      "source": [
        "model.fit(X_train,y_train,validation_data=(X_test,ytest),epochs=100,batch_size=64,verbose=1)\n"
      ],
      "execution_count": 25,
      "outputs": [
        {
          "output_type": "stream",
          "text": [
            "Epoch 1/100\n",
            "20/20 [==============================] - 11s 78ms/step - loss: 0.0327 - val_loss: 0.0046\n",
            "Epoch 2/100\n",
            "20/20 [==============================] - 0s 17ms/step - loss: 0.0026 - val_loss: 9.5469e-04\n",
            "Epoch 3/100\n",
            "20/20 [==============================] - 0s 17ms/step - loss: 0.0016 - val_loss: 0.0013\n",
            "Epoch 4/100\n",
            "20/20 [==============================] - 0s 17ms/step - loss: 0.0014 - val_loss: 0.0011\n",
            "Epoch 5/100\n",
            "20/20 [==============================] - 0s 17ms/step - loss: 0.0014 - val_loss: 0.0016\n",
            "Epoch 6/100\n",
            "20/20 [==============================] - 0s 18ms/step - loss: 0.0015 - val_loss: 9.0522e-04\n",
            "Epoch 7/100\n",
            "20/20 [==============================] - 0s 17ms/step - loss: 0.0014 - val_loss: 9.8388e-04\n",
            "Epoch 8/100\n",
            "20/20 [==============================] - 0s 17ms/step - loss: 0.0013 - val_loss: 0.0017\n",
            "Epoch 9/100\n",
            "20/20 [==============================] - 0s 17ms/step - loss: 0.0014 - val_loss: 0.0011\n",
            "Epoch 10/100\n",
            "20/20 [==============================] - 0s 17ms/step - loss: 0.0012 - val_loss: 8.5215e-04\n",
            "Epoch 11/100\n",
            "20/20 [==============================] - 0s 17ms/step - loss: 0.0011 - val_loss: 0.0011\n",
            "Epoch 12/100\n",
            "20/20 [==============================] - 0s 18ms/step - loss: 0.0010 - val_loss: 6.8004e-04\n",
            "Epoch 13/100\n",
            "20/20 [==============================] - 0s 17ms/step - loss: 0.0012 - val_loss: 7.0623e-04\n",
            "Epoch 14/100\n",
            "20/20 [==============================] - 0s 17ms/step - loss: 0.0012 - val_loss: 7.3441e-04\n",
            "Epoch 15/100\n",
            "20/20 [==============================] - 0s 17ms/step - loss: 0.0010 - val_loss: 0.0011\n",
            "Epoch 16/100\n",
            "20/20 [==============================] - 0s 16ms/step - loss: 0.0010 - val_loss: 7.6270e-04\n",
            "Epoch 17/100\n",
            "20/20 [==============================] - 0s 17ms/step - loss: 9.5903e-04 - val_loss: 7.2945e-04\n",
            "Epoch 18/100\n",
            "20/20 [==============================] - 0s 17ms/step - loss: 0.0010 - val_loss: 7.1926e-04\n",
            "Epoch 19/100\n",
            "20/20 [==============================] - 0s 17ms/step - loss: 8.6740e-04 - val_loss: 7.4052e-04\n",
            "Epoch 20/100\n",
            "20/20 [==============================] - 0s 17ms/step - loss: 9.2300e-04 - val_loss: 7.8405e-04\n",
            "Epoch 21/100\n",
            "20/20 [==============================] - 0s 17ms/step - loss: 8.0804e-04 - val_loss: 7.3906e-04\n",
            "Epoch 22/100\n",
            "20/20 [==============================] - 0s 17ms/step - loss: 8.3514e-04 - val_loss: 8.8076e-04\n",
            "Epoch 23/100\n",
            "20/20 [==============================] - 0s 17ms/step - loss: 7.8669e-04 - val_loss: 0.0010\n",
            "Epoch 24/100\n",
            "20/20 [==============================] - 0s 17ms/step - loss: 8.6242e-04 - val_loss: 9.6353e-04\n",
            "Epoch 25/100\n",
            "20/20 [==============================] - 0s 17ms/step - loss: 7.9280e-04 - val_loss: 7.4068e-04\n",
            "Epoch 26/100\n",
            "20/20 [==============================] - 0s 17ms/step - loss: 9.4714e-04 - val_loss: 7.0131e-04\n",
            "Epoch 27/100\n",
            "20/20 [==============================] - 0s 17ms/step - loss: 8.4554e-04 - val_loss: 8.4254e-04\n",
            "Epoch 28/100\n",
            "20/20 [==============================] - 0s 17ms/step - loss: 7.5220e-04 - val_loss: 8.2344e-04\n",
            "Epoch 29/100\n",
            "20/20 [==============================] - 0s 17ms/step - loss: 7.2065e-04 - val_loss: 6.6191e-04\n",
            "Epoch 30/100\n",
            "20/20 [==============================] - 0s 17ms/step - loss: 7.4058e-04 - val_loss: 7.0057e-04\n",
            "Epoch 31/100\n",
            "20/20 [==============================] - 0s 17ms/step - loss: 6.7501e-04 - val_loss: 6.5086e-04\n",
            "Epoch 32/100\n",
            "20/20 [==============================] - 0s 17ms/step - loss: 6.8711e-04 - val_loss: 6.3436e-04\n",
            "Epoch 33/100\n",
            "20/20 [==============================] - 0s 18ms/step - loss: 7.3349e-04 - val_loss: 7.2642e-04\n",
            "Epoch 34/100\n",
            "20/20 [==============================] - 0s 17ms/step - loss: 6.3414e-04 - val_loss: 8.0870e-04\n",
            "Epoch 35/100\n",
            "20/20 [==============================] - 0s 18ms/step - loss: 7.9987e-04 - val_loss: 6.4378e-04\n",
            "Epoch 36/100\n",
            "20/20 [==============================] - 0s 17ms/step - loss: 6.8609e-04 - val_loss: 5.7350e-04\n",
            "Epoch 37/100\n",
            "20/20 [==============================] - 0s 17ms/step - loss: 6.2234e-04 - val_loss: 6.3570e-04\n",
            "Epoch 38/100\n",
            "20/20 [==============================] - 0s 17ms/step - loss: 6.2095e-04 - val_loss: 6.1904e-04\n",
            "Epoch 39/100\n",
            "20/20 [==============================] - 0s 17ms/step - loss: 6.5204e-04 - val_loss: 7.3936e-04\n",
            "Epoch 40/100\n",
            "20/20 [==============================] - 0s 17ms/step - loss: 6.5198e-04 - val_loss: 6.3807e-04\n",
            "Epoch 41/100\n",
            "20/20 [==============================] - 0s 17ms/step - loss: 5.9799e-04 - val_loss: 5.8866e-04\n",
            "Epoch 42/100\n",
            "20/20 [==============================] - 0s 17ms/step - loss: 6.5258e-04 - val_loss: 6.3795e-04\n",
            "Epoch 43/100\n",
            "20/20 [==============================] - 0s 17ms/step - loss: 6.0191e-04 - val_loss: 8.0150e-04\n",
            "Epoch 44/100\n",
            "20/20 [==============================] - 0s 17ms/step - loss: 5.9216e-04 - val_loss: 6.4071e-04\n",
            "Epoch 45/100\n",
            "20/20 [==============================] - 0s 17ms/step - loss: 6.1536e-04 - val_loss: 6.0261e-04\n",
            "Epoch 46/100\n",
            "20/20 [==============================] - 0s 17ms/step - loss: 5.8248e-04 - val_loss: 5.7894e-04\n",
            "Epoch 47/100\n",
            "20/20 [==============================] - 0s 17ms/step - loss: 5.7712e-04 - val_loss: 7.3653e-04\n",
            "Epoch 48/100\n",
            "20/20 [==============================] - 0s 17ms/step - loss: 5.4958e-04 - val_loss: 9.0850e-04\n",
            "Epoch 49/100\n",
            "20/20 [==============================] - 0s 17ms/step - loss: 5.5992e-04 - val_loss: 5.2036e-04\n",
            "Epoch 50/100\n",
            "20/20 [==============================] - 0s 18ms/step - loss: 5.3701e-04 - val_loss: 7.4160e-04\n",
            "Epoch 51/100\n",
            "20/20 [==============================] - 0s 17ms/step - loss: 6.1265e-04 - val_loss: 4.7817e-04\n",
            "Epoch 52/100\n",
            "20/20 [==============================] - 0s 17ms/step - loss: 7.0561e-04 - val_loss: 5.2550e-04\n",
            "Epoch 53/100\n",
            "20/20 [==============================] - 0s 17ms/step - loss: 5.6475e-04 - val_loss: 4.9986e-04\n",
            "Epoch 54/100\n",
            "20/20 [==============================] - 0s 17ms/step - loss: 5.5711e-04 - val_loss: 9.4872e-04\n",
            "Epoch 55/100\n",
            "20/20 [==============================] - 0s 17ms/step - loss: 8.3570e-04 - val_loss: 7.7671e-04\n",
            "Epoch 56/100\n",
            "20/20 [==============================] - 0s 17ms/step - loss: 5.8177e-04 - val_loss: 4.8815e-04\n",
            "Epoch 57/100\n",
            "20/20 [==============================] - 0s 17ms/step - loss: 5.8149e-04 - val_loss: 5.3021e-04\n",
            "Epoch 58/100\n",
            "20/20 [==============================] - 0s 18ms/step - loss: 5.6174e-04 - val_loss: 6.3731e-04\n",
            "Epoch 59/100\n",
            "20/20 [==============================] - 0s 17ms/step - loss: 5.5472e-04 - val_loss: 6.8313e-04\n",
            "Epoch 60/100\n",
            "20/20 [==============================] - 0s 17ms/step - loss: 5.5027e-04 - val_loss: 5.2408e-04\n",
            "Epoch 61/100\n",
            "20/20 [==============================] - 0s 17ms/step - loss: 5.0223e-04 - val_loss: 4.8226e-04\n",
            "Epoch 62/100\n",
            "20/20 [==============================] - 0s 17ms/step - loss: 5.5218e-04 - val_loss: 4.3674e-04\n",
            "Epoch 63/100\n",
            "20/20 [==============================] - 0s 18ms/step - loss: 4.7200e-04 - val_loss: 4.7287e-04\n",
            "Epoch 64/100\n",
            "20/20 [==============================] - 0s 17ms/step - loss: 4.8250e-04 - val_loss: 5.1775e-04\n",
            "Epoch 65/100\n",
            "20/20 [==============================] - 0s 16ms/step - loss: 4.9996e-04 - val_loss: 4.7911e-04\n",
            "Epoch 66/100\n",
            "20/20 [==============================] - 0s 16ms/step - loss: 5.1058e-04 - val_loss: 5.2538e-04\n",
            "Epoch 67/100\n",
            "20/20 [==============================] - 0s 16ms/step - loss: 4.9258e-04 - val_loss: 6.5582e-04\n",
            "Epoch 68/100\n",
            "20/20 [==============================] - 0s 17ms/step - loss: 5.1363e-04 - val_loss: 5.3110e-04\n",
            "Epoch 69/100\n",
            "20/20 [==============================] - 0s 16ms/step - loss: 5.0342e-04 - val_loss: 3.9400e-04\n",
            "Epoch 70/100\n",
            "20/20 [==============================] - 0s 16ms/step - loss: 4.9189e-04 - val_loss: 3.8321e-04\n",
            "Epoch 71/100\n",
            "20/20 [==============================] - 0s 16ms/step - loss: 4.1461e-04 - val_loss: 4.4052e-04\n",
            "Epoch 72/100\n",
            "20/20 [==============================] - 0s 16ms/step - loss: 4.7514e-04 - val_loss: 4.0711e-04\n",
            "Epoch 73/100\n",
            "20/20 [==============================] - 0s 16ms/step - loss: 4.2349e-04 - val_loss: 4.7735e-04\n",
            "Epoch 74/100\n",
            "20/20 [==============================] - 0s 17ms/step - loss: 4.5757e-04 - val_loss: 3.7363e-04\n",
            "Epoch 75/100\n",
            "20/20 [==============================] - 0s 16ms/step - loss: 3.9914e-04 - val_loss: 4.0224e-04\n",
            "Epoch 76/100\n",
            "20/20 [==============================] - 0s 16ms/step - loss: 3.9936e-04 - val_loss: 3.0182e-04\n",
            "Epoch 77/100\n",
            "20/20 [==============================] - 0s 16ms/step - loss: 4.3251e-04 - val_loss: 3.7230e-04\n",
            "Epoch 78/100\n",
            "20/20 [==============================] - 0s 15ms/step - loss: 3.6462e-04 - val_loss: 4.9627e-04\n",
            "Epoch 79/100\n",
            "20/20 [==============================] - 0s 16ms/step - loss: 4.2800e-04 - val_loss: 3.3562e-04\n",
            "Epoch 80/100\n",
            "20/20 [==============================] - 0s 16ms/step - loss: 4.8476e-04 - val_loss: 4.7837e-04\n",
            "Epoch 81/100\n",
            "20/20 [==============================] - 0s 16ms/step - loss: 3.8022e-04 - val_loss: 3.0699e-04\n",
            "Epoch 82/100\n",
            "20/20 [==============================] - 0s 15ms/step - loss: 3.3182e-04 - val_loss: 3.1975e-04\n",
            "Epoch 83/100\n",
            "20/20 [==============================] - 0s 16ms/step - loss: 4.9993e-04 - val_loss: 3.6046e-04\n",
            "Epoch 84/100\n",
            "20/20 [==============================] - 0s 16ms/step - loss: 3.4012e-04 - val_loss: 2.6901e-04\n",
            "Epoch 85/100\n",
            "20/20 [==============================] - 0s 16ms/step - loss: 3.5836e-04 - val_loss: 3.0978e-04\n",
            "Epoch 86/100\n",
            "20/20 [==============================] - 0s 16ms/step - loss: 4.6892e-04 - val_loss: 3.6335e-04\n",
            "Epoch 87/100\n",
            "20/20 [==============================] - 0s 16ms/step - loss: 3.2267e-04 - val_loss: 3.1746e-04\n",
            "Epoch 88/100\n",
            "20/20 [==============================] - 0s 17ms/step - loss: 3.0446e-04 - val_loss: 2.5939e-04\n",
            "Epoch 89/100\n",
            "20/20 [==============================] - 0s 17ms/step - loss: 2.9705e-04 - val_loss: 2.4395e-04\n",
            "Epoch 90/100\n",
            "20/20 [==============================] - 0s 17ms/step - loss: 4.2999e-04 - val_loss: 3.1122e-04\n",
            "Epoch 91/100\n",
            "20/20 [==============================] - 0s 17ms/step - loss: 3.0795e-04 - val_loss: 3.8712e-04\n",
            "Epoch 92/100\n",
            "20/20 [==============================] - 0s 17ms/step - loss: 2.9428e-04 - val_loss: 2.6523e-04\n",
            "Epoch 93/100\n",
            "20/20 [==============================] - 0s 17ms/step - loss: 2.8156e-04 - val_loss: 2.5971e-04\n",
            "Epoch 94/100\n",
            "20/20 [==============================] - 0s 17ms/step - loss: 2.8162e-04 - val_loss: 2.9091e-04\n",
            "Epoch 95/100\n",
            "20/20 [==============================] - 0s 18ms/step - loss: 3.2024e-04 - val_loss: 2.6345e-04\n",
            "Epoch 96/100\n",
            "20/20 [==============================] - 0s 17ms/step - loss: 3.4951e-04 - val_loss: 2.9188e-04\n",
            "Epoch 97/100\n",
            "20/20 [==============================] - 0s 18ms/step - loss: 4.3966e-04 - val_loss: 2.4600e-04\n",
            "Epoch 98/100\n",
            "20/20 [==============================] - 0s 17ms/step - loss: 2.8168e-04 - val_loss: 2.1013e-04\n",
            "Epoch 99/100\n",
            "20/20 [==============================] - 0s 17ms/step - loss: 2.4945e-04 - val_loss: 2.9157e-04\n",
            "Epoch 100/100\n",
            "20/20 [==============================] - 0s 17ms/step - loss: 2.6401e-04 - val_loss: 2.1903e-04\n"
          ],
          "name": "stdout"
        },
        {
          "output_type": "execute_result",
          "data": {
            "text/plain": [
              "<tensorflow.python.keras.callbacks.History at 0x7f3dc87f2bd0>"
            ]
          },
          "metadata": {
            "tags": []
          },
          "execution_count": 25
        }
      ]
    },
    {
      "cell_type": "code",
      "metadata": {
        "id": "r6j62AoIIrCt"
      },
      "source": [
        "import tensorflow as tf\n",
        "\n",
        "### Lets Do the prediction and check performance metrics\n",
        "train_predict=model.predict(X_train)\n",
        "test_predict=model.predict(X_test)"
      ],
      "execution_count": 26,
      "outputs": []
    },
    {
      "cell_type": "code",
      "metadata": {
        "id": "SOak-f6UKXzr"
      },
      "source": [
        "##Transformback to original form \n",
        "train_predict=scaler.inverse_transform(train_predict)\n",
        "test_predict=scaler.inverse_transform(test_predict)"
      ],
      "execution_count": 27,
      "outputs": []
    },
    {
      "cell_type": "code",
      "metadata": {
        "id": "RC8QYJW7xbYD",
        "colab": {
          "base_uri": "https://localhost:8080/"
        },
        "outputId": "c064752a-7006-4bf3-d30a-09e2d10f70b1"
      },
      "source": [
        "print(train_predict.shape)\n",
        "print(test_predict.shape)"
      ],
      "execution_count": 28,
      "outputs": [
        {
          "output_type": "stream",
          "text": [
            "(1221, 1)\n",
            "(612, 1)\n"
          ],
          "name": "stdout"
        }
      ]
    },
    {
      "cell_type": "code",
      "metadata": {
        "colab": {
          "base_uri": "https://localhost:8080/"
        },
        "id": "AFq4L18LKbLE",
        "outputId": "c353bb89-3844-4bb8-f0d9-67ddd203e613"
      },
      "source": [
        "# Calculate RMSE performance metrics\n",
        "import math\n",
        "from sklearn.metrics import mean_squared_error\n",
        "math.sqrt(mean_squared_error(y_train,train_predict))\n"
      ],
      "execution_count": 29,
      "outputs": [
        {
          "output_type": "execute_result",
          "data": {
            "text/plain": [
              "165.41792778599122"
            ]
          },
          "metadata": {
            "tags": []
          },
          "execution_count": 29
        }
      ]
    },
    {
      "cell_type": "code",
      "metadata": {
        "colab": {
          "base_uri": "https://localhost:8080/"
        },
        "id": "0MI01Im0KeM-",
        "outputId": "a92ffbc7-4077-4034-c722-1aa4076eff3e"
      },
      "source": [
        "# Test Data RMSE\n",
        "math.sqrt(mean_squared_error(ytest,test_predict))"
      ],
      "execution_count": 30,
      "outputs": [
        {
          "output_type": "execute_result",
          "data": {
            "text/plain": [
              "115.8266659700427"
            ]
          },
          "metadata": {
            "tags": []
          },
          "execution_count": 30
        }
      ]
    },
    {
      "cell_type": "markdown",
      "metadata": {
        "id": "rYckw1lx0-Pq"
      },
      "source": [
        "# **Visualizing Stock Price Prediction for training and testing data**"
      ]
    },
    {
      "cell_type": "code",
      "metadata": {
        "colab": {
          "base_uri": "https://localhost:8080/",
          "height": 513
        },
        "id": "WNSOy93AKguW",
        "outputId": "4a3015ce-09d0-4059-c3c7-024ac7855755"
      },
      "source": [
        "# Plotting \n",
        "plt.figure(figsize=(10, 8))\n",
        "\n",
        "# shift train predictions for plotting(orange)\n",
        "look_back=100\n",
        "trainPredictPlot = np.empty_like(df)\n",
        "trainPredictPlot[:, :] = np.nan\n",
        "trainPredictPlot[look_back:len(train_predict)+look_back, :] = train_predict\n",
        "\n",
        "# shift test predictions for plotting(green)\n",
        "testPredictPlot = np.empty_like(df)\n",
        "testPredictPlot[:, :] = np.nan\n",
        "testPredictPlot[len(train_predict)+(look_back*2)+1:len(df)-1, :] = test_predict\n",
        "\n",
        "# plot baseline and predictions (blue)\n",
        "plt.plot(scaler.inverse_transform(df), label = 'Real Stock Price')\n",
        "plt.plot(trainPredictPlot, label = 'Training Prediction')\n",
        "plt.plot(testPredictPlot, label = 'Testing Prediction')\n",
        "\n",
        "plt.title('Results of Stock Price Prediction')\n",
        "plt.xlabel('Days')\n",
        "plt.ylabel('Stock Price(close)')\n",
        "plt.legend()\n",
        "plt.show()"
      ],
      "execution_count": 31,
      "outputs": [
        {
          "output_type": "display_data",
          "data": {
            "image/png": "[encoded data removed]",
            "text/plain": [
              "<Figure size 720x576 with 1 Axes>"
            ]
          },
          "metadata": {
            "tags": [],
            "needs_background": "light"
          }
        }
      ]
    },
    {
      "cell_type": "markdown",
      "metadata": {
        "id": "mQRzT-gIMGa1"
      },
      "source": [
        "* Predicting Stock Price over test data is very close to actual data.\n",
        "* LSTM model shows a good performance on this data."
      ]
    },
    {
      "cell_type": "markdown",
      "metadata": {
        "id": "CuKTVwMA1oja"
      },
      "source": [
        "## **Forecast on future 30 days**\n",
        "**Collect previous 100 days data**"
      ]
    },
    {
      "cell_type": "code",
      "metadata": {
        "colab": {
          "base_uri": "https://localhost:8080/"
        },
        "id": "wcXDb3edK2g0",
        "outputId": "3f8fe596-c53f-484a-dce1-b0bb310239df"
      },
      "source": [
        "len(test_data)\n"
      ],
      "execution_count": 32,
      "outputs": [
        {
          "output_type": "execute_result",
          "data": {
            "text/plain": [
              "713"
            ]
          },
          "metadata": {
            "tags": []
          },
          "execution_count": 32
        }
      ]
    },
    {
      "cell_type": "code",
      "metadata": {
        "colab": {
          "base_uri": "https://localhost:8080/"
        },
        "id": "FEMp9AgbLY-Z",
        "outputId": "3fde9e37-94a7-4e03-a412-c561d33f01cc"
      },
      "source": [
        "x_input=test_data[613:].reshape(1,-1)\n",
        "x_input.shape"
      ],
      "execution_count": 33,
      "outputs": [
        {
          "output_type": "execute_result",
          "data": {
            "text/plain": [
              "(1, 100)"
            ]
          },
          "metadata": {
            "tags": []
          },
          "execution_count": 33
        }
      ]
    },
    {
      "cell_type": "code",
      "metadata": {
        "id": "FqZeUZwWLam5"
      },
      "source": [
        "# Contains previous 100 days data \n",
        "temp_input=list(x_input)\n",
        "temp_input=temp_input[0].tolist()"
      ],
      "execution_count": 34,
      "outputs": []
    },
    {
      "cell_type": "markdown",
      "metadata": {
        "id": "RG-4CatI4h1s"
      },
      "source": [
        "## **Predict for future 30 days from previous 100 days data**\n",
        "\n"
      ]
    },
    {
      "cell_type": "code",
      "metadata": {
        "id": "9NTmn7_WLfZy"
      },
      "source": [
        "n_steps = len(temp_input)\n",
        "for i in range(30):\n",
        "    input_ = temp_input[i:]\n",
        "    input_ = np.array(input_).reshape(1, n_steps, 1)\n",
        "    output = model.predict(input_)[0][0]\n",
        "    temp_input.append(output)"
      ],
      "execution_count": 35,
      "outputs": []
    },
    {
      "cell_type": "code",
      "metadata": {
        "id": "7Kyerxe_6jcZ",
        "colab": {
          "base_uri": "https://localhost:8080/"
        },
        "outputId": "b6c5c7b0-137a-4248-d059-c95040313b2b"
      },
      "source": [
        "len(temp_input)\n"
      ],
      "execution_count": 36,
      "outputs": [
        {
          "output_type": "execute_result",
          "data": {
            "text/plain": [
              "130"
            ]
          },
          "metadata": {
            "tags": []
          },
          "execution_count": 36
        }
      ]
    },
    {
      "cell_type": "markdown",
      "metadata": {
        "id": "rBYSEIBB6nBG"
      },
      "source": [
        "Length is 130 as it contains data of previous 100 days and 30 predicted days"
      ]
    },
    {
      "cell_type": "code",
      "metadata": {
        "id": "RL5jkaeqLofT"
      },
      "source": [
        "# collect sample numbers for 100 and 30 days\n",
        "day_new=np.arange(1,101)\n",
        "day_pred=np.arange(101,131)"
      ],
      "execution_count": 37,
      "outputs": []
    },
    {
      "cell_type": "code",
      "metadata": {
        "id": "CWaBbx9G8APw",
        "colab": {
          "base_uri": "https://localhost:8080/"
        },
        "outputId": "82ac1b68-6593-442d-d6a2-69627aefb807"
      },
      "source": [
        "len(df)"
      ],
      "execution_count": 38,
      "outputs": [
        {
          "output_type": "execute_result",
          "data": {
            "text/plain": [
              "2035"
            ]
          },
          "metadata": {
            "tags": []
          },
          "execution_count": 38
        }
      ]
    },
    {
      "cell_type": "code",
      "metadata": {
        "colab": {
          "base_uri": "https://localhost:8080/",
          "height": 295
        },
        "id": "R1DpwUYDOf5p",
        "outputId": "78eaee3e-28b5-4949-dc75-388d3df7169b"
      },
      "source": [
        "# Plotting Stock Price with next 30 days prediction\n",
        "\n",
        "plt.plot(day_new, scaler.inverse_transform(np.array(df[1935:]).reshape(-1,1)), label='100 days')\n",
        "plt.plot(day_pred, scaler.inverse_transform(np.array(temp_input[100:]).reshape(-1,1)), label='30 days')\n",
        "plt.xlabel('Days')\n",
        "plt.ylabel('Stock Price')\n",
        "plt.title('Forecast')\n",
        "plt.legend()\n",
        "plt.show()"
      ],
      "execution_count": 39,
      "outputs": [
        {
          "output_type": "display_data",
          "data": {
            "image/png": "[encoded data removed]",
            "text/plain": [
              "<Figure size 432x288 with 1 Axes>"
            ]
          },
          "metadata": {
            "tags": [],
            "needs_background": "light"
          }
        }
      ]
    },
    {
      "cell_type": "code",
      "metadata": {
        "colab": {
          "base_uri": "https://localhost:8080/",
          "height": 295
        },
        "id": "kSIblGQIOpai",
        "outputId": "a8039eb2-16f6-4f53-8e46-cd281501facf"
      },
      "source": [
        "# Plotting the partial Forecast\n",
        "\n",
        "plt.plot(scaler.inverse_transform(np.array(temp_input).reshape(-1,1)))\n",
        "plt.xlabel('Days')\n",
        "plt.ylabel('Stock Price')\n",
        "plt.title('Forecast')\n",
        "plt.show()"
      ],
      "execution_count": 40,
      "outputs": [
        {
          "output_type": "display_data",
          "data": {
            "image/png": "[encoded data removed]",
            "text/plain": [
              "<Figure size 432x288 with 1 Axes>"
            ]
          },
          "metadata": {
            "tags": [],
            "needs_background": "light"
          }
        }
      ]
    },
    {
      "cell_type": "code",
      "metadata": {
        "id": "RbyBqD83Et0f",
        "colab": {
          "base_uri": "https://localhost:8080/"
        },
        "outputId": "3f65c339-5221-49a3-87cb-de0ff8ecfbd2"
      },
      "source": [
        "len(df1)"
      ],
      "execution_count": 41,
      "outputs": [
        {
          "output_type": "execute_result",
          "data": {
            "text/plain": [
              "2035"
            ]
          },
          "metadata": {
            "tags": []
          },
          "execution_count": 41
        }
      ]
    },
    {
      "cell_type": "code",
      "metadata": {
        "id": "C6bXzdXNFm-t",
        "colab": {
          "base_uri": "https://localhost:8080/"
        },
        "outputId": "0c7dbc1d-cebd-417e-f8d7-8f199f598ad4"
      },
      "source": [
        "stock_previous = df1.to_numpy()\n",
        "stock_30 = scaler.inverse_transform(np.array(temp_input[100:]).reshape(1, -1))[0]\n",
        "Total_stock = np.concatenate([stock_previous, stock_30])\n",
        "Total_stock.shape"
      ],
      "execution_count": 42,
      "outputs": [
        {
          "output_type": "execute_result",
          "data": {
            "text/plain": [
              "(2065,)"
            ]
          },
          "metadata": {
            "tags": []
          },
          "execution_count": 42
        }
      ]
    },
    {
      "cell_type": "markdown",
      "metadata": {
        "id": "RQG2FS8gIYmu"
      },
      "source": [
        "## **Stock Price Prediction of next 30 days along with given stock price data**"
      ]
    },
    {
      "cell_type": "code",
      "metadata": {
        "colab": {
          "base_uri": "https://localhost:8080/",
          "height": 404
        },
        "id": "H0eJbAGVOne2",
        "outputId": "a541a38d-ed5a-48bf-fef4-2429f6dfffc9"
      },
      "source": [
        "# plotting the complete Graph along with 30 days Forecast\n",
        "\n",
        "plt.figure(figsize=(10,6))\n",
        "plt.plot(Total_stock)\n",
        "plt.xlabel('Days')\n",
        "plt.ylabel('Stock Price')\n",
        "plt.title('Complete Stock Price')\n",
        "plt.show()"
      ],
      "execution_count": 43,
      "outputs": [
        {
          "output_type": "display_data",
          "data": {
            "image/png": "[encoded data removed]",
            "text/plain": [
              "<Figure size 720x432 with 1 Axes>"
            ]
          },
          "metadata": {
            "tags": [],
            "needs_background": "light"
          }
        }
      ]
    },
    {
      "cell_type": "markdown",
      "metadata": {
        "id": "tQyxmCu6O65u"
      },
      "source": [
        "## **Conclusion:**\n",
        "\n",
        "* There is a gradual `increase` of stock price between year `2017` to `2018`.\n",
        "* Then it is going to `decrease` till `(September 2018)` \n",
        "* But there is sudden `increase` in stock closing prices in `October 2018` as predicted by our LSTM Model.\n",
        "* We successfully completed the stock market prediction and forecasting using stacked LSTM model."
      ]
    },
    {
      "cell_type": "code",
      "metadata": {
        "id": "ZDcLiDAMR0kL"
      },
      "source": [
        ""
      ],
      "execution_count": 43,
      "outputs": []
    }
  ]
}